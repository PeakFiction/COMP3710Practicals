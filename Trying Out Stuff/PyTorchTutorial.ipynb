{
 "cells": [
  {
   "cell_type": "markdown",
   "id": "8df5e3b3",
   "metadata": {},
   "source": [
    "# PyTorch Fundamentals"
   ]
  },
  {
   "cell_type": "markdown",
   "id": "992f8ad8",
   "metadata": {},
   "source": [
    "## Importing PyTorch"
   ]
  },
  {
   "cell_type": "code",
   "execution_count": 1,
   "id": "49c89bdb",
   "metadata": {},
   "outputs": [
    {
     "data": {
      "text/plain": [
       "'2.8.0+cpu'"
      ]
     },
     "execution_count": 1,
     "metadata": {},
     "output_type": "execute_result"
    }
   ],
   "source": [
    "import torch\n",
    "torch.__version__"
   ]
  },
  {
   "cell_type": "markdown",
   "id": "2814cca7",
   "metadata": {},
   "source": [
    "## Introduction to Tensors\n",
    "### Scalar"
   ]
  },
  {
   "cell_type": "code",
   "execution_count": null,
   "id": "32add333",
   "metadata": {},
   "outputs": [
    {
     "data": {
      "text/plain": [
       "tensor([7])"
      ]
     },
     "execution_count": 11,
     "metadata": {},
     "output_type": "execute_result"
    }
   ],
   "source": [
    "# Scalar\n",
    "scalar = torch.tensor(7)\n",
    "scalar"
   ]
  },
  {
   "cell_type": "code",
   "execution_count": 12,
   "id": "90ccf323",
   "metadata": {},
   "outputs": [
    {
     "data": {
      "text/plain": [
       "1"
      ]
     },
     "execution_count": 12,
     "metadata": {},
     "output_type": "execute_result"
    }
   ],
   "source": [
    "#Prints out Dimension of a Tensor\n",
    "scalar.ndim"
   ]
  },
  {
   "cell_type": "code",
   "execution_count": 8,
   "id": "60504cf1",
   "metadata": {},
   "outputs": [
    {
     "data": {
      "text/plain": [
       "7"
      ]
     },
     "execution_count": 8,
     "metadata": {},
     "output_type": "execute_result"
    }
   ],
   "source": [
    "# Get the Python number within a tensor (only works with one-element tensors)\n",
    "scalar.item()"
   ]
  },
  {
   "cell_type": "markdown",
   "id": "db57a762",
   "metadata": {},
   "source": [
    "### Vectors"
   ]
  },
  {
   "cell_type": "code",
   "execution_count": 9,
   "id": "a5a0a429",
   "metadata": {},
   "outputs": [
    {
     "data": {
      "text/plain": [
       "tensor([7, 7])"
      ]
     },
     "execution_count": 9,
     "metadata": {},
     "output_type": "execute_result"
    }
   ],
   "source": [
    "# Vector \n",
    "vector = torch.tensor([7,7])\n",
    "vector"
   ]
  },
  {
   "cell_type": "code",
   "execution_count": null,
   "id": "f1c98057",
   "metadata": {},
   "outputs": [
    {
     "data": {
      "text/plain": [
       "1"
      ]
     },
     "execution_count": 10,
     "metadata": {},
     "output_type": "execute_result"
    }
   ],
   "source": [
    "# Vector Dimension:\n",
    "# Tensor dimensions = number of outer [ ] layers.\n",
    "\n",
    "vector.ndim"
   ]
  },
  {
   "cell_type": "code",
   "execution_count": 13,
   "id": "f3e08b70",
   "metadata": {},
   "outputs": [
    {
     "data": {
      "text/plain": [
       "torch.Size([2])"
      ]
     },
     "execution_count": 13,
     "metadata": {},
     "output_type": "execute_result"
    }
   ],
   "source": [
    "#Check the Shape of Vector\n",
    "vector.shape"
   ]
  },
  {
   "cell_type": "markdown",
   "id": "344630b8",
   "metadata": {},
   "source": [
    "### Matrix"
   ]
  },
  {
   "cell_type": "code",
   "execution_count": 14,
   "id": "2c3f88cd",
   "metadata": {},
   "outputs": [
    {
     "data": {
      "text/plain": [
       "tensor([[ 7,  8],\n",
       "        [ 9, 10]])"
      ]
     },
     "execution_count": 14,
     "metadata": {},
     "output_type": "execute_result"
    }
   ],
   "source": [
    "#Matrix \n",
    "MATRIX = torch.tensor([[7,8],\n",
    "                      [9,10]])\n",
    "\n",
    "MATRIX"
   ]
  },
  {
   "cell_type": "code",
   "execution_count": null,
   "id": "4675a0a4",
   "metadata": {},
   "outputs": [
    {
     "name": "stdout",
     "output_type": "stream",
     "text": [
      "2\n",
      "torch.Size([2, 2])\n"
     ]
    }
   ],
   "source": [
    "print(MATRIX.ndim) #2 Dimensions, 2 Square Brackets\n",
    "print(MATRIX.shape) #[2,2], two elements deep, two elements wide"
   ]
  },
  {
   "cell_type": "markdown",
   "id": "9ce7b056",
   "metadata": {},
   "source": [
    "### Tensor"
   ]
  },
  {
   "cell_type": "code",
   "execution_count": 19,
   "id": "f4108844",
   "metadata": {},
   "outputs": [
    {
     "data": {
      "text/plain": [
       "tensor([[[1, 2, 3],\n",
       "         [3, 6, 9],\n",
       "         [2, 4, 5]]])"
      ]
     },
     "execution_count": 19,
     "metadata": {},
     "output_type": "execute_result"
    }
   ],
   "source": [
    "#Tensor \n",
    "TENSOR = torch.tensor([[[1,2,3],\n",
    "                      [3,6,9],\n",
    "                      [2,4,5]]])\n",
    "TENSOR"
   ]
  },
  {
   "cell_type": "code",
   "execution_count": null,
   "id": "03f1e30d",
   "metadata": {},
   "outputs": [
    {
     "name": "stdout",
     "output_type": "stream",
     "text": [
      "3\n",
      "torch.Size([1, 3, 3])\n"
     ]
    }
   ],
   "source": [
    "print(TENSOR.ndim)\n",
    "print(TENSOR.shape) \n",
    "\n",
    "#Output is [1,3,3] meaning there's one dimension of a 3,3\n"
   ]
  },
  {
   "cell_type": "code",
   "execution_count": 28,
   "id": "5a0c37d3",
   "metadata": {},
   "outputs": [
    {
     "name": "stdout",
     "output_type": "stream",
     "text": [
      "2\n",
      "torch.Size([6, 2])\n"
     ]
    }
   ],
   "source": [
    "TENSORTEST1 = torch.tensor([[7,4],\n",
    "                            [0,1],\n",
    "                            [1,9],\n",
    "                            [2,3],\n",
    "                            [5,6],\n",
    "                            [8,8]])\n",
    "\n",
    "print(TENSORTEST1.ndim)\n",
    "print(TENSORTEST1.shape)"
   ]
  },
  {
   "cell_type": "markdown",
   "id": "db17dc34",
   "metadata": {},
   "source": [
    "### Random Tensors"
   ]
  },
  {
   "cell_type": "code",
   "execution_count": 29,
   "id": "e3c1a003",
   "metadata": {},
   "outputs": [
    {
     "data": {
      "text/plain": [
       "(tensor([[0.4058, 0.0056, 0.5172, 0.5546],\n",
       "         [0.4737, 0.2224, 0.1281, 0.1490],\n",
       "         [0.5349, 0.6570, 0.0701, 0.7573]]),\n",
       " torch.float32)"
      ]
     },
     "execution_count": 29,
     "metadata": {},
     "output_type": "execute_result"
    }
   ],
   "source": [
    "# Create a random tensor of size (3,4)\n",
    "random_tensor = torch.rand(size=(3,4))\n",
    "random_tensor, random_tensor.dtype"
   ]
  },
  {
   "cell_type": "markdown",
   "id": "e2ad0a45",
   "metadata": {},
   "source": [
    "Random Tensors can have different sizes, whichever we want, example:\n",
    "Height = 224\n",
    "Width = 224\n",
    "Color Channels = 3\n",
    "([height], [width], color_channels)"
   ]
  },
  {
   "cell_type": "code",
   "execution_count": 32,
   "id": "9c3ef945",
   "metadata": {},
   "outputs": [
    {
     "data": {
      "text/plain": [
       "(torch.Size([224, 224, 3]), 3)"
      ]
     },
     "execution_count": 32,
     "metadata": {},
     "output_type": "execute_result"
    }
   ],
   "source": [
    "\n",
    "#Create a random tensor of size (224,224,3)\n",
    "random_image_size_tensor = torch.rand(size=(224,224,3))\n",
    "random_image_size_tensor.shape, random_image_size_tensor.ndim"
   ]
  },
  {
   "cell_type": "markdown",
   "id": "03e6a9e2",
   "metadata": {},
   "source": [
    "### Zeroes and Ones"
   ]
  },
  {
   "cell_type": "markdown",
   "id": "1c9debd3",
   "metadata": {},
   "source": [
    "Creating Tensor of Zeroes and Ones, e.g. All Zeroes"
   ]
  },
  {
   "cell_type": "code",
   "execution_count": 33,
   "id": "5653d248",
   "metadata": {},
   "outputs": [
    {
     "data": {
      "text/plain": [
       "(tensor([[0., 0., 0., 0.],\n",
       "         [0., 0., 0., 0.],\n",
       "         [0., 0., 0., 0.]]),\n",
       " torch.float32)"
      ]
     },
     "execution_count": 33,
     "metadata": {},
     "output_type": "execute_result"
    }
   ],
   "source": [
    "# Create a tensor of all zeroes\n",
    "zeros = torch.zeros(size=(3,4))\n",
    "zeros, zeros.dtype\n"
   ]
  },
  {
   "cell_type": "code",
   "execution_count": 34,
   "id": "0aacce7a",
   "metadata": {},
   "outputs": [
    {
     "data": {
      "text/plain": [
       "(tensor([[1., 1., 1., 1.],\n",
       "         [1., 1., 1., 1.],\n",
       "         [1., 1., 1., 1.]]),\n",
       " torch.float32)"
      ]
     },
     "execution_count": 34,
     "metadata": {},
     "output_type": "execute_result"
    }
   ],
   "source": [
    "#Create a tensor of all ones\n",
    "ones = torch.ones(size=(3,4))\n",
    "ones, ones.dtype"
   ]
  },
  {
   "cell_type": "markdown",
   "id": "04b49543",
   "metadata": {},
   "source": [
    "### Creating a range and tensors like\n",
    "\n",
    "You can use ```torch.arange(start, end, step)``` to createa  tensor based on preferred range.\n",
    "Where:\n",
    "- `start`= start of range\n",
    "- `end` = end of range\n",
    "- `step` = how many steps between each value, e.g. 1"
   ]
  },
  {
   "cell_type": "code",
   "execution_count": 44,
   "id": "583ff174",
   "metadata": {},
   "outputs": [
    {
     "data": {
      "text/plain": [
       "tensor([0, 1, 2, 3, 4, 5, 6, 7, 8, 9])"
      ]
     },
     "execution_count": 44,
     "metadata": {},
     "output_type": "execute_result"
    }
   ],
   "source": [
    "#Create range of values of 0 to 10\n",
    "zero_to_ten = torch.arange(start=0, end=10, step=1)\n",
    "zero_to_ten"
   ]
  },
  {
   "cell_type": "code",
   "execution_count": 48,
   "id": "93e98718",
   "metadata": {},
   "outputs": [
    {
     "name": "stdout",
     "output_type": "stream",
     "text": [
      "tensor([0, 0, 0, 0, 0, 0, 0, 0, 0, 0])\n",
      "tensor([1, 1, 1, 1, 1, 1, 1, 1, 1, 1])\n",
      "tensor([0.7354, 0.6396, 0.8078, 0.1304, 0.0794, 0.9466, 0.1401, 0.0845, 0.2206,\n",
      "        0.9816])\n"
     ]
    }
   ],
   "source": [
    "#Creating tensor similar shape to previous tensors using torch.zeroes_like\n",
    "ten_zeros = torch.zeros_like(input=zero_to_ten) #will have same shape, but all zeros\n",
    "print(ten_zeros)\n",
    "\n",
    "ten_ones = torch.ones_like(input=zero_to_ten) #will have same shape, but all ones\n",
    "print(ten_ones)\n",
    "\n",
    "ten_randoms = torch.rand_like(zero_to_ten, dtype=torch.float)\n",
    "print(ten_randoms)"
   ]
  },
  {
   "cell_type": "markdown",
   "id": "8d2b146a",
   "metadata": {},
   "source": [
    "### Tensor Datatypes"
   ]
  },
  {
   "cell_type": "code",
   "execution_count": 51,
   "id": "ed8a8255",
   "metadata": {},
   "outputs": [
    {
     "data": {
      "text/plain": [
       "(torch.float32, device(type='cpu'))"
      ]
     },
     "execution_count": 51,
     "metadata": {},
     "output_type": "execute_result"
    }
   ],
   "source": [
    "#Default datatype for tensors is float32\n",
    "\n",
    "float_32_tensor = torch.tensor([3.0, 6.0, 9.0],\n",
    "                               dtype=None, #defaults to None, which is torch.float32 or whatever datatype is passed\n",
    "                               device=None, #defaults to None, which uses default tensor type\n",
    "                               requires_grad=False #if true, operations performed are recorded\n",
    "                               )\n",
    "float_32_tensor.dtype, float_32_tensor.device"
   ]
  },
  {
   "cell_type": "code",
   "execution_count": 52,
   "id": "a09f150e",
   "metadata": {},
   "outputs": [
    {
     "data": {
      "text/plain": [
       "torch.float16"
      ]
     },
     "execution_count": 52,
     "metadata": {},
     "output_type": "execute_result"
    }
   ],
   "source": [
    "#Creating dtype float16\n",
    "float_16_tensor = torch.tensor([3.0, 5.0, 9.0],\n",
    "                               dtype=torch.float16)\n",
    "float_16_tensor.dtype"
   ]
  },
  {
   "cell_type": "markdown",
   "id": "d66cf5e8",
   "metadata": {},
   "source": [
    "## Getting information from Tensors\n",
    "Common attributes to check:\n",
    "\n",
    "- **`.shape`** → tensor dimensions (rows, cols, etc.)  \n",
    "- **`.dtype`** → data type of elements (float, int, etc.)  \n",
    "- **`.device`** → where it’s stored (CPU or GPU)  "
   ]
  },
  {
   "cell_type": "code",
   "execution_count": 54,
   "id": "80df9bcb",
   "metadata": {},
   "outputs": [
    {
     "name": "stdout",
     "output_type": "stream",
     "text": [
      "tensor([[0.1721, 0.3632, 0.8006, 0.8269],\n",
      "        [0.7201, 0.7688, 0.1841, 0.6352],\n",
      "        [0.6205, 0.9683, 0.7540, 0.5206]])\n",
      "\n",
      "Shape of tensor: torch.Size([3, 4])\n",
      "Datatype of tensor: torch.float32\n",
      "Device tensor is stored on: cpu\n"
     ]
    }
   ],
   "source": [
    "#Create a random tensor\n",
    "some_tensor = torch.rand(3,4)\n",
    "\n",
    "#Find out details about it\n",
    "print(some_tensor)\n",
    "print()\n",
    "print(f\"Shape of tensor: {some_tensor.shape}\")\n",
    "print(f\"Datatype of tensor: {some_tensor.dtype}\")\n",
    "print(f\"Device tensor is stored on: {some_tensor.device}\")"
   ]
  },
  {
   "cell_type": "markdown",
   "id": "6c2e050f",
   "metadata": {},
   "source": [
    "## Manipulating Tensors (tensor operations)\n",
    "\n",
    "Deep learning uses **tensors** to represent data and applies basic operations to learn patterns:\n",
    "\n",
    "- Addition\n",
    "- Subtraction\n",
    "- Element-wise multiplication\n",
    "- Division\n",
    "- Matrix multiplication\n",
    "\n",
    "These form the core building blocks of neural networks.\n",
    "\n"
   ]
  },
  {
   "cell_type": "markdown",
   "id": "e8322566",
   "metadata": {},
   "source": [
    "### Basic Operations\n"
   ]
  },
  {
   "cell_type": "code",
   "execution_count": null,
   "id": "41ad457b",
   "metadata": {},
   "outputs": [
    {
     "data": {
      "text/plain": [
       "tensor([11, 12, 13])"
      ]
     },
     "execution_count": 55,
     "metadata": {},
     "output_type": "execute_result"
    }
   ],
   "source": [
    "#ADDITION\n",
    "#Create a tensor of values and add a number to it\n",
    "tensor = torch.tensor([1,2,3])\n",
    "tensor + 10\n"
   ]
  },
  {
   "cell_type": "code",
   "execution_count": 56,
   "id": "9aeadc76",
   "metadata": {},
   "outputs": [
    {
     "data": {
      "text/plain": [
       "tensor([10, 20, 30])"
      ]
     },
     "execution_count": 56,
     "metadata": {},
     "output_type": "execute_result"
    }
   ],
   "source": [
    "#MULTIPLICATION\n",
    "# Multiply it by 10\n",
    "tensor * 10"
   ]
  },
  {
   "cell_type": "markdown",
   "id": "a74cff4f",
   "metadata": {},
   "source": [
    "Tensor values doesn't change, until they are reassigned"
   ]
  },
  {
   "cell_type": "code",
   "execution_count": 57,
   "id": "656c44f3",
   "metadata": {},
   "outputs": [
    {
     "data": {
      "text/plain": [
       "tensor([1, 2, 3])"
      ]
     },
     "execution_count": 57,
     "metadata": {},
     "output_type": "execute_result"
    }
   ],
   "source": [
    "tensor"
   ]
  },
  {
   "cell_type": "code",
   "execution_count": 58,
   "id": "ed3b3bec",
   "metadata": {},
   "outputs": [
    {
     "data": {
      "text/plain": [
       "tensor([-9, -8, -7])"
      ]
     },
     "execution_count": 58,
     "metadata": {},
     "output_type": "execute_result"
    }
   ],
   "source": [
    "#Subtraction, and reassign\n",
    "\n",
    "tensor = tensor - 10\n",
    "tensor"
   ]
  },
  {
   "cell_type": "code",
   "execution_count": 63,
   "id": "d4f122b0",
   "metadata": {},
   "outputs": [
    {
     "data": {
      "text/plain": [
       "tensor([1, 2, 3])"
      ]
     },
     "execution_count": 63,
     "metadata": {},
     "output_type": "execute_result"
    }
   ],
   "source": [
    "#Will be changed after\n",
    "#add and reassign\n",
    "tensor = tensor + 10\n",
    "tensor"
   ]
  },
  {
   "cell_type": "code",
   "execution_count": null,
   "id": "ca2e7fc3",
   "metadata": {},
   "outputs": [
    {
     "data": {
      "text/plain": [
       "tensor([10, 20, 30])"
      ]
     },
     "execution_count": 66,
     "metadata": {},
     "output_type": "execute_result"
    }
   ],
   "source": [
    "#Torch Multiplication, will still be unchanged, using torch.multiply\n",
    "torch.multiply(tensor, 10)\n",
    "\n",
    "#However, it's still more common to use *, than methods"
   ]
  },
  {
   "cell_type": "markdown",
   "id": "543c15da",
   "metadata": {},
   "source": [
    "### Matrix Multiplication \n",
    "\n",
    "Matrix multiplication is a key operation in deep learning, implemented in PyTorch via `torch.matmul()`.\n",
    "\n",
    "**Rules:**\n",
    "1. **Inner dimensions must match**  \n",
    "   - `(3, 2) @ (3, 2)` → ❌  \n",
    "   - `(2, 3) @ (3, 2)` → ✅  \n",
    "   - `(3, 2) @ (2, 3)` → ✅  \n",
    "\n",
    "2. **Result shape = outer dimensions**  \n",
    "   - `(2, 3) @ (3, 2)` → `(2, 2)`  \n",
    "   - `(3, 2) @ (2, 3)` → `(3, 3)`  \n",
    "\n",
    "**Note:** `@` in Python denotes matrix multiplication.\n"
   ]
  },
  {
   "cell_type": "code",
   "execution_count": null,
   "id": "aae5ea2f",
   "metadata": {},
   "outputs": [],
   "source": [
    "#Create a tensor and perform element-wise multiplication and matrix multiplication\n",
    "import torch\n",
    "tensor = torch.tensor([1,2,3])\n",
    "\n",
    "tensor.shape\n"
   ]
  },
  {
   "cell_type": "markdown",
   "id": "8bbe2fd8",
   "metadata": {},
   "source": [
    "#### Element-wise vs Matrix Multiplication — Summary\n",
    "\n",
    "For a tensor `[1, 2, 3]`:\n",
    "\n",
    "- **Element-wise multiplication**: Multiply corresponding elements.  \n",
    "  `[1*1, 2*2, 3*3]` → `[1, 4, 9]`  \n",
    "  **Code:** `tensor * tensor`\n",
    "\n",
    "- **Matrix multiplication**: Multiply and sum products.  \n",
    "  `[1*1 + 2*2 + 3*3]` → `[14]`  \n",
    "  **Code:** `tensor.matmul(tensor)`\n",
    "\n",
    "**Key difference**: Matrix multiplication adds the products; element-wise does not.\n"
   ]
  },
  {
   "cell_type": "code",
   "execution_count": 68,
   "id": "a5d87807",
   "metadata": {},
   "outputs": [
    {
     "name": "stdout",
     "output_type": "stream",
     "text": [
      "Element-Wise Matrix Multiplication: tensor([1, 4, 9])\n",
      "Matrix Multiplication: 14\n"
     ]
    }
   ],
   "source": [
    "#Element-wise matrix multiplication\n",
    "print(f\"Element-Wise Matrix Multiplication: {tensor * tensor}\")\n",
    "\n",
    "#Matrix multiplication\n",
    "print(f\"Matrix Multiplication: {torch.matmul(tensor, tensor)}\")\n"
   ]
  },
  {
   "cell_type": "markdown",
   "id": "2a16fba2",
   "metadata": {},
   "source": [
    "Doing matrix multiplication is doable but not recommended as `torch.matmul()` method is faster"
   ]
  },
  {
   "cell_type": "code",
   "execution_count": 70,
   "id": "61f6b569",
   "metadata": {},
   "outputs": [
    {
     "name": "stdout",
     "output_type": "stream",
     "text": [
      "CPU times: total: 0 ns\n",
      "Wall time: 135 μs\n"
     ]
    },
    {
     "data": {
      "text/plain": [
       "tensor(14)"
      ]
     },
     "execution_count": 70,
     "metadata": {},
     "output_type": "execute_result"
    }
   ],
   "source": [
    "%%time \n",
    "# Matrix Multiplication by Hand\n",
    "# (Avoid doing operations with for loops, because they're expensive)\n",
    "\n",
    "value = 0 \n",
    "for i in range(len(tensor)):\n",
    "    value += tensor[i] * tensor[i]\n",
    "\n",
    "value\n"
   ]
  },
  {
   "cell_type": "code",
   "execution_count": 71,
   "id": "9b3a1b41",
   "metadata": {},
   "outputs": [
    {
     "name": "stdout",
     "output_type": "stream",
     "text": [
      "CPU times: total: 0 ns\n",
      "Wall time: 45.8 μs\n"
     ]
    },
    {
     "data": {
      "text/plain": [
       "tensor(14)"
      ]
     },
     "execution_count": 71,
     "metadata": {},
     "output_type": "execute_result"
    }
   ],
   "source": [
    "%%time \n",
    "torch.matmul(tensor, tensor)\n"
   ]
  }
 ],
 "metadata": {
  "kernelspec": {
   "display_name": "Python 3",
   "language": "python",
   "name": "python3"
  },
  "language_info": {
   "codemirror_mode": {
    "name": "ipython",
    "version": 3
   },
   "file_extension": ".py",
   "mimetype": "text/x-python",
   "name": "python",
   "nbconvert_exporter": "python",
   "pygments_lexer": "ipython3",
   "version": "3.13.5"
  }
 },
 "nbformat": 4,
 "nbformat_minor": 5
}
